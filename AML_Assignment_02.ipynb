{
 "cells": [
  {
   "cell_type": "code",
   "execution_count": 2,
   "id": "52811e5f",
   "metadata": {},
   "outputs": [],
   "source": [
    "import pandas as pd\n",
    "import numpy as np\n",
    "import matplotlib.pyplot as plt\n",
    "import sklearn\n",
    "import seaborn as sns\n",
    "import nltk\n",
    "import re\n",
    "from sklearn.feature_extraction.text import TfidfVectorizer"
   ]
  },
  {
   "cell_type": "code",
   "execution_count": 3,
   "id": "2ff49b67",
   "metadata": {},
   "outputs": [],
   "source": [
    "from nltk.corpus import stopwords\n",
    "from wordcloud import WordCloud\n",
    "from sklearn.model_selection import train_test_split"
   ]
  },
  {
   "cell_type": "code",
   "execution_count": 4,
   "id": "48aa12de",
   "metadata": {},
   "outputs": [
    {
     "name": "stderr",
     "output_type": "stream",
     "text": [
      "[nltk_data] Downloading package punkt to C:\\Users\\Akshay\n",
      "[nltk_data]     Thorave\\AppData\\Roaming\\nltk_data...\n",
      "[nltk_data]   Package punkt is already up-to-date!\n",
      "[nltk_data] Downloading package stopwords to C:\\Users\\Akshay\n",
      "[nltk_data]     Thorave\\AppData\\Roaming\\nltk_data...\n",
      "[nltk_data]   Package stopwords is already up-to-date!\n"
     ]
    },
    {
     "data": {
      "text/plain": [
       "True"
      ]
     },
     "execution_count": 4,
     "metadata": {},
     "output_type": "execute_result"
    }
   ],
   "source": [
    "nltk.download('punkt')\n",
    "nltk.download('stopwords')"
   ]
  },
  {
   "cell_type": "code",
   "execution_count": 7,
   "id": "71b38a02",
   "metadata": {},
   "outputs": [
    {
     "name": "stdout",
     "output_type": "stream",
     "text": [
      "Reinitialized existing Git repository in C:/Users/Akshay Thorave/Desktop/AML_Assignment_2/AML_Assignment2/.git/\n"
     ]
    }
   ],
   "source": [
    "!git init"
   ]
  },
  {
   "cell_type": "code",
   "execution_count": 8,
   "id": "cfb79b07",
   "metadata": {},
   "outputs": [
    {
     "name": "stdout",
     "output_type": "stream",
     "text": [
      "Initialized DVC repository.\n",
      "\n",
      "You can now commit the changes to git.\n",
      "\n",
      "+---------------------------------------------------------------------+\n",
      "|                                                                     |\n",
      "|        DVC has enabled anonymous aggregate usage analytics.         |\n",
      "|     Read the analytics documentation (and how to opt-out) here:     |\n",
      "|             <https://dvc.org/doc/user-guide/analytics>              |\n",
      "|                                                                     |\n",
      "+---------------------------------------------------------------------+\n",
      "\n",
      "What's next?\n",
      "------------\n",
      "- Check out the documentation: <https://dvc.org/doc>\n",
      "- Get help and share ideas: <https://dvc.org/chat>\n",
      "- Star us on GitHub: <https://github.com/iterative/dvc>\n"
     ]
    }
   ],
   "source": [
    "!dvc init -f"
   ]
  },
  {
   "cell_type": "code",
   "execution_count": 9,
   "id": "825b9186",
   "metadata": {},
   "outputs": [],
   "source": [
    "!dvc config core.autostage true"
   ]
  },
  {
   "cell_type": "code",
   "execution_count": 10,
   "id": "66b40b7e",
   "metadata": {},
   "outputs": [
    {
     "name": "stdout",
     "output_type": "stream",
     "text": [
      "On branch dvc\n",
      "Your branch is up to date with 'origin/dvc'.\n",
      "\n",
      "Changes to be committed:\n",
      "  (use \"git restore --staged <file>...\" to unstage)\n",
      "\tnew file:   .dvc/.gitignore\n",
      "\tnew file:   .dvc/config\n",
      "\tnew file:   .dvcignore\n",
      "\n",
      "Changes not staged for commit:\n",
      "  (use \"git add <file>...\" to update what will be committed)\n",
      "  (use \"git restore <file>...\" to discard changes in working directory)\n",
      "\tmodified:   .dvc/config\n",
      "\n",
      "Untracked files:\n",
      "  (use \"git add <file>...\" to include in what will be committed)\n",
      "\t.ipynb_checkpoints/\n",
      "\tUntitled.ipynb\n",
      "\n"
     ]
    }
   ],
   "source": [
    "!git status"
   ]
  },
  {
   "cell_type": "code",
   "execution_count": 5,
   "id": "adb35929",
   "metadata": {},
   "outputs": [],
   "source": [
    "data = pd.read_csv('emails.csv')"
   ]
  },
  {
   "cell_type": "code",
   "execution_count": 6,
   "id": "e1679dfa",
   "metadata": {},
   "outputs": [
    {
     "data": {
      "text/html": [
       "<div>\n",
       "<style scoped>\n",
       "    .dataframe tbody tr th:only-of-type {\n",
       "        vertical-align: middle;\n",
       "    }\n",
       "\n",
       "    .dataframe tbody tr th {\n",
       "        vertical-align: top;\n",
       "    }\n",
       "\n",
       "    .dataframe thead th {\n",
       "        text-align: right;\n",
       "    }\n",
       "</style>\n",
       "<table border=\"1\" class=\"dataframe\">\n",
       "  <thead>\n",
       "    <tr style=\"text-align: right;\">\n",
       "      <th></th>\n",
       "      <th>text</th>\n",
       "      <th>spam</th>\n",
       "    </tr>\n",
       "  </thead>\n",
       "  <tbody>\n",
       "    <tr>\n",
       "      <th>0</th>\n",
       "      <td>Subject: naturally irresistible your corporate...</td>\n",
       "      <td>1</td>\n",
       "    </tr>\n",
       "    <tr>\n",
       "      <th>1</th>\n",
       "      <td>Subject: the stock trading gunslinger  fanny i...</td>\n",
       "      <td>1</td>\n",
       "    </tr>\n",
       "    <tr>\n",
       "      <th>2</th>\n",
       "      <td>Subject: unbelievable new homes made easy  im ...</td>\n",
       "      <td>1</td>\n",
       "    </tr>\n",
       "    <tr>\n",
       "      <th>3</th>\n",
       "      <td>Subject: 4 color printing special  request add...</td>\n",
       "      <td>1</td>\n",
       "    </tr>\n",
       "    <tr>\n",
       "      <th>4</th>\n",
       "      <td>Subject: do not have money , get software cds ...</td>\n",
       "      <td>1</td>\n",
       "    </tr>\n",
       "  </tbody>\n",
       "</table>\n",
       "</div>"
      ],
      "text/plain": [
       "                                                text  spam\n",
       "0  Subject: naturally irresistible your corporate...     1\n",
       "1  Subject: the stock trading gunslinger  fanny i...     1\n",
       "2  Subject: unbelievable new homes made easy  im ...     1\n",
       "3  Subject: 4 color printing special  request add...     1\n",
       "4  Subject: do not have money , get software cds ...     1"
      ]
     },
     "execution_count": 6,
     "metadata": {},
     "output_type": "execute_result"
    }
   ],
   "source": [
    "data.head()"
   ]
  },
  {
   "cell_type": "code",
   "execution_count": 11,
   "id": "df46ddf4",
   "metadata": {},
   "outputs": [
    {
     "data": {
      "text/plain": [
       "text    0\n",
       "spam    0\n",
       "dtype: int64"
      ]
     },
     "execution_count": 11,
     "metadata": {},
     "output_type": "execute_result"
    }
   ],
   "source": [
    "data.isnull().sum()"
   ]
  },
  {
   "cell_type": "code",
   "execution_count": 12,
   "id": "0f1b2b60",
   "metadata": {},
   "outputs": [
    {
     "data": {
      "text/plain": [
       "33"
      ]
     },
     "execution_count": 12,
     "metadata": {},
     "output_type": "execute_result"
    }
   ],
   "source": [
    "data.duplicated().sum()"
   ]
  },
  {
   "cell_type": "code",
   "execution_count": 13,
   "id": "9ab390f4",
   "metadata": {},
   "outputs": [],
   "source": [
    "data = data.drop_duplicates(keep = 'first')"
   ]
  },
  {
   "cell_type": "code",
   "execution_count": 14,
   "id": "e6dc5a5a",
   "metadata": {},
   "outputs": [
    {
     "data": {
      "text/plain": [
       "0    4327\n",
       "1    1368\n",
       "Name: spam, dtype: int64"
      ]
     },
     "execution_count": 14,
     "metadata": {},
     "output_type": "execute_result"
    }
   ],
   "source": [
    "data['spam'].value_counts()"
   ]
  },
  {
   "cell_type": "markdown",
   "id": "ff20fccf",
   "metadata": {},
   "source": [
    "## Data Preprocessing"
   ]
  },
  {
   "cell_type": "code",
   "execution_count": 15,
   "id": "3e87e606",
   "metadata": {},
   "outputs": [],
   "source": [
    "def text_processing(text):\n",
    "    # Convert text to lowercase\n",
    "    text = text.lower()\n",
    "    \n",
    "    # Remove punctuation and special characters\n",
    "    text = re.sub(r'[^a-zA-Z0-9\\s]', '', text)\n",
    "    \n",
    "    # Use regex to remove all digits (numbers)\n",
    "    text = re.sub(r'\\d+', '', text)\n",
    "    \n",
    "    # Remove extra whitespaces\n",
    "    text = ' '.join(text.split())\n",
    "    \n",
    "    # converting normalized text into tokens\n",
    "    tokens = nltk.word_tokenize(text)\n",
    "    \n",
    "    # removing stopwords\n",
    "    y = []\n",
    "    for token in tokens:\n",
    "        if token not in stopwords.words('english'):\n",
    "            y.append(token)\n",
    "    \n",
    "    return \" \".join(y[1:])    # every row contains a word,'subject' which is useless so we are removing that word\n"
   ]
  },
  {
   "cell_type": "code",
   "execution_count": 16,
   "id": "3060962d",
   "metadata": {},
   "outputs": [],
   "source": [
    "data = data.copy()\n",
    "\n",
    "data['processed_text'] = data['text'].apply(text_processing)"
   ]
  },
  {
   "cell_type": "code",
   "execution_count": 17,
   "id": "c73a192d",
   "metadata": {},
   "outputs": [
    {
     "data": {
      "text/html": [
       "<div>\n",
       "<style scoped>\n",
       "    .dataframe tbody tr th:only-of-type {\n",
       "        vertical-align: middle;\n",
       "    }\n",
       "\n",
       "    .dataframe tbody tr th {\n",
       "        vertical-align: top;\n",
       "    }\n",
       "\n",
       "    .dataframe thead th {\n",
       "        text-align: right;\n",
       "    }\n",
       "</style>\n",
       "<table border=\"1\" class=\"dataframe\">\n",
       "  <thead>\n",
       "    <tr style=\"text-align: right;\">\n",
       "      <th></th>\n",
       "      <th>spam</th>\n",
       "      <th>processed_text</th>\n",
       "    </tr>\n",
       "  </thead>\n",
       "  <tbody>\n",
       "    <tr>\n",
       "      <th>0</th>\n",
       "      <td>1</td>\n",
       "      <td>naturally irresistible corporate identity lt r...</td>\n",
       "    </tr>\n",
       "    <tr>\n",
       "      <th>1</th>\n",
       "      <td>1</td>\n",
       "      <td>stock trading gunslinger fanny merrill muzo co...</td>\n",
       "    </tr>\n",
       "    <tr>\n",
       "      <th>2</th>\n",
       "      <td>1</td>\n",
       "      <td>unbelievable new homes made easy im wanting sh...</td>\n",
       "    </tr>\n",
       "    <tr>\n",
       "      <th>3</th>\n",
       "      <td>1</td>\n",
       "      <td>color printing special request additional info...</td>\n",
       "    </tr>\n",
       "    <tr>\n",
       "      <th>4</th>\n",
       "      <td>1</td>\n",
       "      <td>money get software cds software compatibility ...</td>\n",
       "    </tr>\n",
       "    <tr>\n",
       "      <th>...</th>\n",
       "      <td>...</td>\n",
       "      <td>...</td>\n",
       "    </tr>\n",
       "    <tr>\n",
       "      <th>5723</th>\n",
       "      <td>0</td>\n",
       "      <td>research development charges gpg forwarded shi...</td>\n",
       "    </tr>\n",
       "    <tr>\n",
       "      <th>5724</th>\n",
       "      <td>0</td>\n",
       "      <td>receipts visit jim thanks invitation visit lsu...</td>\n",
       "    </tr>\n",
       "    <tr>\n",
       "      <th>5725</th>\n",
       "      <td>0</td>\n",
       "      <td>enron case study update wow day super thank mu...</td>\n",
       "    </tr>\n",
       "    <tr>\n",
       "      <th>5726</th>\n",
       "      <td>0</td>\n",
       "      <td>interest david please call shirley crenshaw as...</td>\n",
       "    </tr>\n",
       "    <tr>\n",
       "      <th>5727</th>\n",
       "      <td>0</td>\n",
       "      <td>news aurora update aurora version fastest mode...</td>\n",
       "    </tr>\n",
       "  </tbody>\n",
       "</table>\n",
       "<p>5695 rows × 2 columns</p>\n",
       "</div>"
      ],
      "text/plain": [
       "      spam                                     processed_text\n",
       "0        1  naturally irresistible corporate identity lt r...\n",
       "1        1  stock trading gunslinger fanny merrill muzo co...\n",
       "2        1  unbelievable new homes made easy im wanting sh...\n",
       "3        1  color printing special request additional info...\n",
       "4        1  money get software cds software compatibility ...\n",
       "...    ...                                                ...\n",
       "5723     0  research development charges gpg forwarded shi...\n",
       "5724     0  receipts visit jim thanks invitation visit lsu...\n",
       "5725     0  enron case study update wow day super thank mu...\n",
       "5726     0  interest david please call shirley crenshaw as...\n",
       "5727     0  news aurora update aurora version fastest mode...\n",
       "\n",
       "[5695 rows x 2 columns]"
      ]
     },
     "execution_count": 17,
     "metadata": {},
     "output_type": "execute_result"
    }
   ],
   "source": [
    "data.drop(columns = ['text'], inplace = True)\n",
    "data"
   ]
  },
  {
   "cell_type": "markdown",
   "id": "73c10552",
   "metadata": {},
   "source": [
    "## Creating First Version of data"
   ]
  },
  {
   "cell_type": "code",
   "execution_count": 18,
   "id": "d433fb11",
   "metadata": {},
   "outputs": [],
   "source": [
    "X = data['processed_text']\n",
    "\n",
    "y = data['spam']\n",
    "\n",
    "X_train_val, X_test, y_train_val, y_test = train_test_split(X,y, test_size = 0.2, random_state = 25)\n",
    "\n",
    "X_train, X_val, y_train, y_val = train_test_split(X_train_val,y_train_val, test_size = 0.25, random_state = 50)"
   ]
  },
  {
   "cell_type": "code",
   "execution_count": 19,
   "id": "87d9c6d4",
   "metadata": {},
   "outputs": [
    {
     "data": {
      "text/html": [
       "<div>\n",
       "<style scoped>\n",
       "    .dataframe tbody tr th:only-of-type {\n",
       "        vertical-align: middle;\n",
       "    }\n",
       "\n",
       "    .dataframe tbody tr th {\n",
       "        vertical-align: top;\n",
       "    }\n",
       "\n",
       "    .dataframe thead th {\n",
       "        text-align: right;\n",
       "    }\n",
       "</style>\n",
       "<table border=\"1\" class=\"dataframe\">\n",
       "  <thead>\n",
       "    <tr style=\"text-align: right;\">\n",
       "      <th></th>\n",
       "      <th>Email</th>\n",
       "      <th>Spam</th>\n",
       "    </tr>\n",
       "  </thead>\n",
       "  <tbody>\n",
       "    <tr>\n",
       "      <th>5469</th>\n",
       "      <td>gas model chaim received number phone messages...</td>\n",
       "      <td>0</td>\n",
       "    </tr>\n",
       "    <tr>\n",
       "      <th>4315</th>\n",
       "      <td>backtesting different percentiles vlady enclos...</td>\n",
       "      <td>0</td>\n",
       "    </tr>\n",
       "    <tr>\n",
       "      <th>3452</th>\n",
       "      <td>year end performance feedback note receive mes...</td>\n",
       "      <td>0</td>\n",
       "    </tr>\n",
       "    <tr>\n",
       "      <th>693</th>\n",
       "      <td>neugierig content type text plain content tran...</td>\n",
       "      <td>1</td>\n",
       "    </tr>\n",
       "    <tr>\n",
       "      <th>3698</th>\n",
       "      <td>garp frank reviewed materials garp find inform...</td>\n",
       "      <td>0</td>\n",
       "    </tr>\n",
       "    <tr>\n",
       "      <th>...</th>\n",
       "      <td>...</td>\n",
       "      <td>...</td>\n",
       "    </tr>\n",
       "    <tr>\n",
       "      <th>1534</th>\n",
       "      <td>friend mine shirley please arrange phone inter...</td>\n",
       "      <td>0</td>\n",
       "    </tr>\n",
       "    <tr>\n",
       "      <th>5460</th>\n",
       "      <td>var cob nd aug hi vince waiting comment email ...</td>\n",
       "      <td>0</td>\n",
       "    </tr>\n",
       "    <tr>\n",
       "      <th>3831</th>\n",
       "      <td>willow pathstar evaluations please respond mik...</td>\n",
       "      <td>0</td>\n",
       "    </tr>\n",
       "    <tr>\n",
       "      <th>125</th>\n",
       "      <td>cool medz hello welcome medzonli decapitation ...</td>\n",
       "      <td>1</td>\n",
       "    </tr>\n",
       "    <tr>\n",
       "      <th>4322</th>\n",
       "      <td>job well done bob lee kenneth parkhill forward...</td>\n",
       "      <td>0</td>\n",
       "    </tr>\n",
       "  </tbody>\n",
       "</table>\n",
       "<p>3417 rows × 2 columns</p>\n",
       "</div>"
      ],
      "text/plain": [
       "                                                  Email  Spam\n",
       "5469  gas model chaim received number phone messages...     0\n",
       "4315  backtesting different percentiles vlady enclos...     0\n",
       "3452  year end performance feedback note receive mes...     0\n",
       "693   neugierig content type text plain content tran...     1\n",
       "3698  garp frank reviewed materials garp find inform...     0\n",
       "...                                                 ...   ...\n",
       "1534  friend mine shirley please arrange phone inter...     0\n",
       "5460  var cob nd aug hi vince waiting comment email ...     0\n",
       "3831  willow pathstar evaluations please respond mik...     0\n",
       "125   cool medz hello welcome medzonli decapitation ...     1\n",
       "4322  job well done bob lee kenneth parkhill forward...     0\n",
       "\n",
       "[3417 rows x 2 columns]"
      ]
     },
     "execution_count": 19,
     "metadata": {},
     "output_type": "execute_result"
    }
   ],
   "source": [
    "X_train_df = pd.DataFrame()\n",
    "\n",
    "X_train_df['Email'] = X_train\n",
    "X_train_df['Spam'] = y_train\n",
    "X_train_df"
   ]
  },
  {
   "cell_type": "code",
   "execution_count": 20,
   "id": "8b01fb25",
   "metadata": {},
   "outputs": [
    {
     "data": {
      "text/html": [
       "<div>\n",
       "<style scoped>\n",
       "    .dataframe tbody tr th:only-of-type {\n",
       "        vertical-align: middle;\n",
       "    }\n",
       "\n",
       "    .dataframe tbody tr th {\n",
       "        vertical-align: top;\n",
       "    }\n",
       "\n",
       "    .dataframe thead th {\n",
       "        text-align: right;\n",
       "    }\n",
       "</style>\n",
       "<table border=\"1\" class=\"dataframe\">\n",
       "  <thead>\n",
       "    <tr style=\"text-align: right;\">\n",
       "      <th></th>\n",
       "      <th>Email</th>\n",
       "      <th>Spam</th>\n",
       "    </tr>\n",
       "  </thead>\n",
       "  <tbody>\n",
       "    <tr>\n",
       "      <th>1615</th>\n",
       "      <td>forwarded vince j kaminski hou ect gould aaron...</td>\n",
       "      <td>0</td>\n",
       "    </tr>\n",
       "    <tr>\n",
       "      <th>611</th>\n",
       "      <td>new love tabs shop visit llcensed online drags...</td>\n",
       "      <td>1</td>\n",
       "    </tr>\n",
       "    <tr>\n",
       "      <th>4247</th>\n",
       "      <td>additional e mail addresses vince three new st...</td>\n",
       "      <td>0</td>\n",
       "    </tr>\n",
       "    <tr>\n",
       "      <th>3662</th>\n",
       "      <td>synfuel option valuation lenny believe must do...</td>\n",
       "      <td>0</td>\n",
       "    </tr>\n",
       "    <tr>\n",
       "      <th>3849</th>\n",
       "      <td>missing prc information vince following inform...</td>\n",
       "      <td>0</td>\n",
       "    </tr>\n",
       "    <tr>\n",
       "      <th>...</th>\n",
       "      <td>...</td>\n",
       "      <td>...</td>\n",
       "    </tr>\n",
       "    <tr>\n",
       "      <th>2533</th>\n",
       "      <td>congratulations dear vince soooo gland see get...</td>\n",
       "      <td>0</td>\n",
       "    </tr>\n",
       "    <tr>\n",
       "      <th>4515</th>\n",
       "      <td>additional attachments vince forgot attach fin...</td>\n",
       "      <td>0</td>\n",
       "    </tr>\n",
       "    <tr>\n",
       "      <th>4223</th>\n",
       "      <td>visit enron professor nalin kulatilaka boston ...</td>\n",
       "      <td>0</td>\n",
       "    </tr>\n",
       "    <tr>\n",
       "      <th>4011</th>\n",
       "      <td>subscription renewal barbara yes would like re...</td>\n",
       "      <td>0</td>\n",
       "    </tr>\n",
       "    <tr>\n",
       "      <th>3844</th>\n",
       "      <td>evaluation form mike please sign return vince</td>\n",
       "      <td>0</td>\n",
       "    </tr>\n",
       "  </tbody>\n",
       "</table>\n",
       "<p>1139 rows × 2 columns</p>\n",
       "</div>"
      ],
      "text/plain": [
       "                                                  Email  Spam\n",
       "1615  forwarded vince j kaminski hou ect gould aaron...     0\n",
       "611   new love tabs shop visit llcensed online drags...     1\n",
       "4247  additional e mail addresses vince three new st...     0\n",
       "3662  synfuel option valuation lenny believe must do...     0\n",
       "3849  missing prc information vince following inform...     0\n",
       "...                                                 ...   ...\n",
       "2533  congratulations dear vince soooo gland see get...     0\n",
       "4515  additional attachments vince forgot attach fin...     0\n",
       "4223  visit enron professor nalin kulatilaka boston ...     0\n",
       "4011  subscription renewal barbara yes would like re...     0\n",
       "3844      evaluation form mike please sign return vince     0\n",
       "\n",
       "[1139 rows x 2 columns]"
      ]
     },
     "execution_count": 20,
     "metadata": {},
     "output_type": "execute_result"
    }
   ],
   "source": [
    "X_test_df = pd.DataFrame()\n",
    "\n",
    "X_test_df['Email'] = X_test\n",
    "X_test_df['Spam'] = y_test\n",
    "X_test_df"
   ]
  },
  {
   "cell_type": "code",
   "execution_count": 21,
   "id": "c2b10510",
   "metadata": {},
   "outputs": [
    {
     "data": {
      "text/html": [
       "<div>\n",
       "<style scoped>\n",
       "    .dataframe tbody tr th:only-of-type {\n",
       "        vertical-align: middle;\n",
       "    }\n",
       "\n",
       "    .dataframe tbody tr th {\n",
       "        vertical-align: top;\n",
       "    }\n",
       "\n",
       "    .dataframe thead th {\n",
       "        text-align: right;\n",
       "    }\n",
       "</style>\n",
       "<table border=\"1\" class=\"dataframe\">\n",
       "  <thead>\n",
       "    <tr style=\"text-align: right;\">\n",
       "      <th></th>\n",
       "      <th>Email</th>\n",
       "      <th>Spam</th>\n",
       "    </tr>\n",
       "  </thead>\n",
       "  <tbody>\n",
       "    <tr>\n",
       "      <th>2074</th>\n",
       "      <td>fyi enron best hi vince spoke molly mcgee hr g...</td>\n",
       "      <td>0</td>\n",
       "    </tr>\n",
       "    <tr>\n",
       "      <th>4264</th>\n",
       "      <td>fw gmm mar jeff newsletter addressed wide audi...</td>\n",
       "      <td>0</td>\n",
       "    </tr>\n",
       "    <tr>\n",
       "      <th>5586</th>\n",
       "      <td>russian investment climate multimedia playback...</td>\n",
       "      <td>0</td>\n",
       "    </tr>\n",
       "    <tr>\n",
       "      <th>627</th>\n",
       "      <td>professional advertising dear projecthoneypot ...</td>\n",
       "      <td>1</td>\n",
       "    </tr>\n",
       "    <tr>\n",
       "      <th>3773</th>\n",
       "      <td>supply rebound beginning update cera outlook u...</td>\n",
       "      <td>0</td>\n",
       "    </tr>\n",
       "    <tr>\n",
       "      <th>...</th>\n",
       "      <td>...</td>\n",
       "      <td>...</td>\n",
       "    </tr>\n",
       "    <tr>\n",
       "      <th>5656</th>\n",
       "      <td>new eprm speakers vince thanks much help helen...</td>\n",
       "      <td>0</td>\n",
       "    </tr>\n",
       "    <tr>\n",
       "      <th>3808</th>\n",
       "      <td>technical writer position note confirm cease r...</td>\n",
       "      <td>0</td>\n",
       "    </tr>\n",
       "    <tr>\n",
       "      <th>2692</th>\n",
       "      <td>calling pm pm hi vince thank allowing call spe...</td>\n",
       "      <td>0</td>\n",
       "    </tr>\n",
       "    <tr>\n",
       "      <th>2720</th>\n",
       "      <td>fw london wish list oops sent previous email a...</td>\n",
       "      <td>0</td>\n",
       "    </tr>\n",
       "    <tr>\n",
       "      <th>5508</th>\n",
       "      <td>dragon curves thai baht forecast prepared atta...</td>\n",
       "      <td>0</td>\n",
       "    </tr>\n",
       "  </tbody>\n",
       "</table>\n",
       "<p>1139 rows × 2 columns</p>\n",
       "</div>"
      ],
      "text/plain": [
       "                                                  Email  Spam\n",
       "2074  fyi enron best hi vince spoke molly mcgee hr g...     0\n",
       "4264  fw gmm mar jeff newsletter addressed wide audi...     0\n",
       "5586  russian investment climate multimedia playback...     0\n",
       "627   professional advertising dear projecthoneypot ...     1\n",
       "3773  supply rebound beginning update cera outlook u...     0\n",
       "...                                                 ...   ...\n",
       "5656  new eprm speakers vince thanks much help helen...     0\n",
       "3808  technical writer position note confirm cease r...     0\n",
       "2692  calling pm pm hi vince thank allowing call spe...     0\n",
       "2720  fw london wish list oops sent previous email a...     0\n",
       "5508  dragon curves thai baht forecast prepared atta...     0\n",
       "\n",
       "[1139 rows x 2 columns]"
      ]
     },
     "execution_count": 21,
     "metadata": {},
     "output_type": "execute_result"
    }
   ],
   "source": [
    "X_val_df = pd.DataFrame()\n",
    "\n",
    "X_val_df['Email'] = X_val\n",
    "X_val_df['Spam'] = y_val\n",
    "X_val_df"
   ]
  },
  {
   "cell_type": "code",
   "execution_count": 22,
   "id": "2e90bbb6",
   "metadata": {},
   "outputs": [],
   "source": [
    "X_train_df.to_csv('train.csv',index = False)\n",
    "X_test_df.to_csv('test.csv',index = False)\n",
    "X_val_df.to_csv('validation.csv',index = False)"
   ]
  },
  {
   "cell_type": "code",
   "execution_count": 23,
   "id": "82d1fbdb",
   "metadata": {},
   "outputs": [],
   "source": [
    "!dvc add train.csv validation.csv test.csv"
   ]
  },
  {
   "cell_type": "code",
   "execution_count": 24,
   "id": "b5dd9ce6",
   "metadata": {},
   "outputs": [],
   "source": [
    "!git add train.csv.dvc validation.csv.dvc test.csv.dvc"
   ]
  },
  {
   "cell_type": "code",
   "execution_count": 25,
   "id": "19813042",
   "metadata": {},
   "outputs": [
    {
     "name": "stdout",
     "output_type": "stream",
     "text": [
      "[dvc 461455a] First version of data\n",
      " 7 files changed, 24 insertions(+)\n",
      " create mode 100644 .dvc/.gitignore\n",
      " create mode 100644 .dvc/config\n",
      " create mode 100644 .dvcignore\n",
      " create mode 100644 .gitignore\n",
      " create mode 100644 test.csv.dvc\n",
      " create mode 100644 train.csv.dvc\n",
      " create mode 100644 validation.csv.dvc\n"
     ]
    }
   ],
   "source": [
    "!git commit -m \"First version of data\""
   ]
  },
  {
   "cell_type": "code",
   "execution_count": 26,
   "id": "1e6e50fb",
   "metadata": {},
   "outputs": [
    {
     "name": "stdout",
     "output_type": "stream",
     "text": [
      "On branch dvc\n",
      "Your branch is ahead of 'origin/dvc' by 1 commit.\n",
      "  (use \"git push\" to publish your local commits)\n",
      "\n",
      "Changes not staged for commit:\n",
      "  (use \"git add <file>...\" to update what will be committed)\n",
      "  (use \"git restore <file>...\" to discard changes in working directory)\n",
      "\tmodified:   .dvc/config\n",
      "\n",
      "Untracked files:\n",
      "  (use \"git add <file>...\" to include in what will be committed)\n",
      "\t.ipynb_checkpoints/\n",
      "\tUntitled.ipynb\n",
      "\n",
      "no changes added to commit (use \"git add\" and/or \"git commit -a\")\n"
     ]
    }
   ],
   "source": [
    "!git status"
   ]
  },
  {
   "cell_type": "code",
   "execution_count": 27,
   "id": "65300787",
   "metadata": {},
   "outputs": [
    {
     "name": "stdout",
     "output_type": "stream",
     "text": [
      "commit 461455a817a6b3fb4520dd36b2c5162dc15280a4\n",
      "Author: Akshay Thorave <thorave@cmi.ac.in>\n",
      "Date:   Tue Feb 20 22:39:28 2024 +0530\n",
      "\n",
      "    First version of data\n",
      "\n",
      "commit 8906d3ffe6b1a27ae6ec05a08b55127a1c47a635\n",
      "Author: Akshay Thorave <thorave@cmi.ac.in>\n",
      "Date:   Tue Feb 20 22:12:56 2024 +0530\n",
      "\n",
      "    All files are removed except email\n",
      "\n",
      "commit 0494e06f85a2e8115217afaf78a3ba30cf0d17d1\n",
      "Author: Akshay Thorave <thorave@cmi.ac.in>\n",
      "Date:   Tue Feb 20 21:29:02 2024 +0530\n",
      "\n",
      "    updated\n",
      "\n",
      "commit 42dd711aee358a7dfb2db8e9c087e19c7cbc6955\n",
      "Author: Akshay Thorave <thorave@cmi.ac.in>\n",
      "Date:   Tue Feb 20 20:07:57 2024 +0530\n",
      "\n",
      "    Jupyter notebook added\n",
      "\n",
      "commit ac0af98a77942db778ad656ecaec9cb117e47cbe\n",
      "Author: Akshay Thorave <thorave@cmi.ac.in>\n",
      "Date:   Tue Feb 20 14:43:14 2024 +0530\n",
      "\n",
      "    Dataset uploaded\n"
     ]
    }
   ],
   "source": [
    "!git log"
   ]
  },
  {
   "cell_type": "code",
   "execution_count": 28,
   "id": "f21e7118",
   "metadata": {},
   "outputs": [
    {
     "name": "stderr",
     "output_type": "stream",
     "text": [
      "To https://github.com/akshaythorave/AML_Assignment2.git\n",
      "   8906d3f..461455a  dvc -> dvc\n"
     ]
    }
   ],
   "source": [
    "!git push"
   ]
  },
  {
   "cell_type": "markdown",
   "id": "4653fb47",
   "metadata": {},
   "source": [
    "## Updated Version of data"
   ]
  },
  {
   "cell_type": "code",
   "execution_count": 29,
   "id": "76be8a2b",
   "metadata": {},
   "outputs": [],
   "source": [
    "X = data['processed_text']\n",
    "\n",
    "y = data['spam']\n",
    "\n",
    "X_train_val, X_test, y_train_val, y_test = train_test_split(X,y, test_size = 0.2, random_state = 525)\n",
    "\n",
    "X_train, X_val, y_train, y_val = train_test_split(X_train_val,y_train_val, test_size = 0.25, random_state = 550)"
   ]
  },
  {
   "cell_type": "code",
   "execution_count": 30,
   "id": "35422507",
   "metadata": {},
   "outputs": [
    {
     "data": {
      "text/html": [
       "<div>\n",
       "<style scoped>\n",
       "    .dataframe tbody tr th:only-of-type {\n",
       "        vertical-align: middle;\n",
       "    }\n",
       "\n",
       "    .dataframe tbody tr th {\n",
       "        vertical-align: top;\n",
       "    }\n",
       "\n",
       "    .dataframe thead th {\n",
       "        text-align: right;\n",
       "    }\n",
       "</style>\n",
       "<table border=\"1\" class=\"dataframe\">\n",
       "  <thead>\n",
       "    <tr style=\"text-align: right;\">\n",
       "      <th></th>\n",
       "      <th>Email</th>\n",
       "      <th>Spam</th>\n",
       "    </tr>\n",
       "  </thead>\n",
       "  <tbody>\n",
       "    <tr>\n",
       "      <th>3743</th>\n",
       "      <td>candlestick charts fyi fallout forwarded mike ...</td>\n",
       "      <td>0</td>\n",
       "    </tr>\n",
       "    <tr>\n",
       "      <th>1991</th>\n",
       "      <td>fyi</td>\n",
       "      <td>0</td>\n",
       "    </tr>\n",
       "    <tr>\n",
       "      <th>990</th>\n",
       "      <td>take action immediately miss attention valued ...</td>\n",
       "      <td>1</td>\n",
       "    </tr>\n",
       "    <tr>\n",
       "      <th>2422</th>\n",
       "      <td>ameriflash newsletter business highlights coal...</td>\n",
       "      <td>0</td>\n",
       "    </tr>\n",
       "    <tr>\n",
       "      <th>929</th>\n",
       "      <td>viagrra scores hello welcome pharmonlin purita...</td>\n",
       "      <td>1</td>\n",
       "    </tr>\n",
       "    <tr>\n",
       "      <th>...</th>\n",
       "      <td>...</td>\n",
       "      <td>...</td>\n",
       "    </tr>\n",
       "    <tr>\n",
       "      <th>11</th>\n",
       "      <td>save money buy getting thing tried cialls yet ...</td>\n",
       "      <td>1</td>\n",
       "    </tr>\n",
       "    <tr>\n",
       "      <th>4667</th>\n",
       "      <td>programming rdi model michelle met cecil chris...</td>\n",
       "      <td>0</td>\n",
       "    </tr>\n",
       "    <tr>\n",
       "      <th>1307</th>\n",
       "      <td>wish dd tried sooner save supper medlcations r...</td>\n",
       "      <td>1</td>\n",
       "    </tr>\n",
       "    <tr>\n",
       "      <th>3902</th>\n",
       "      <td>summer internship hi vince writing time inquir...</td>\n",
       "      <td>0</td>\n",
       "    </tr>\n",
       "    <tr>\n",
       "      <th>5704</th>\n",
       "      <td>storage model security stinson added time bomb...</td>\n",
       "      <td>0</td>\n",
       "    </tr>\n",
       "  </tbody>\n",
       "</table>\n",
       "<p>3417 rows × 2 columns</p>\n",
       "</div>"
      ],
      "text/plain": [
       "                                                  Email  Spam\n",
       "3743  candlestick charts fyi fallout forwarded mike ...     0\n",
       "1991                                                fyi     0\n",
       "990   take action immediately miss attention valued ...     1\n",
       "2422  ameriflash newsletter business highlights coal...     0\n",
       "929   viagrra scores hello welcome pharmonlin purita...     1\n",
       "...                                                 ...   ...\n",
       "11    save money buy getting thing tried cialls yet ...     1\n",
       "4667  programming rdi model michelle met cecil chris...     0\n",
       "1307  wish dd tried sooner save supper medlcations r...     1\n",
       "3902  summer internship hi vince writing time inquir...     0\n",
       "5704  storage model security stinson added time bomb...     0\n",
       "\n",
       "[3417 rows x 2 columns]"
      ]
     },
     "execution_count": 30,
     "metadata": {},
     "output_type": "execute_result"
    }
   ],
   "source": [
    "X_train_df = pd.DataFrame()\n",
    "\n",
    "X_train_df['Email'] = X_train\n",
    "X_train_df['Spam'] = y_train\n",
    "X_train_df"
   ]
  },
  {
   "cell_type": "code",
   "execution_count": 31,
   "id": "7948d860",
   "metadata": {},
   "outputs": [
    {
     "data": {
      "text/html": [
       "<div>\n",
       "<style scoped>\n",
       "    .dataframe tbody tr th:only-of-type {\n",
       "        vertical-align: middle;\n",
       "    }\n",
       "\n",
       "    .dataframe tbody tr th {\n",
       "        vertical-align: top;\n",
       "    }\n",
       "\n",
       "    .dataframe thead th {\n",
       "        text-align: right;\n",
       "    }\n",
       "</style>\n",
       "<table border=\"1\" class=\"dataframe\">\n",
       "  <thead>\n",
       "    <tr style=\"text-align: right;\">\n",
       "      <th></th>\n",
       "      <th>Email</th>\n",
       "      <th>Spam</th>\n",
       "    </tr>\n",
       "  </thead>\n",
       "  <tbody>\n",
       "    <tr>\n",
       "      <th>2112</th>\n",
       "      <td>storage book ravi samer met morning sara ledbe...</td>\n",
       "      <td>0</td>\n",
       "    </tr>\n",
       "    <tr>\n",
       "      <th>3717</th>\n",
       "      <td>meeting wharton office next week please send d...</td>\n",
       "      <td>0</td>\n",
       "    </tr>\n",
       "    <tr>\n",
       "      <th>4795</th>\n",
       "      <td>enron recruiting mscf speaker series vince pie...</td>\n",
       "      <td>0</td>\n",
       "    </tr>\n",
       "    <tr>\n",
       "      <th>2421</th>\n",
       "      <td>research sign steve sign research group someth...</td>\n",
       "      <td>0</td>\n",
       "    </tr>\n",
       "    <tr>\n",
       "      <th>2097</th>\n",
       "      <td>f u iris mack mba phd enron vince iris receive...</td>\n",
       "      <td>0</td>\n",
       "    </tr>\n",
       "    <tr>\n",
       "      <th>...</th>\n",
       "      <td>...</td>\n",
       "      <td>...</td>\n",
       "    </tr>\n",
       "    <tr>\n",
       "      <th>3402</th>\n",
       "      <td>visit enron frank great idea think opportunity...</td>\n",
       "      <td>0</td>\n",
       "    </tr>\n",
       "    <tr>\n",
       "      <th>1472</th>\n",
       "      <td>meeting bob butts scheduled pm thursday th off...</td>\n",
       "      <td>0</td>\n",
       "    </tr>\n",
       "    <tr>\n",
       "      <th>1746</th>\n",
       "      <td>visit vince kaminski enron corp research dear ...</td>\n",
       "      <td>0</td>\n",
       "    </tr>\n",
       "    <tr>\n",
       "      <th>4206</th>\n",
       "      <td>resume mark giancola attached resume mark gian...</td>\n",
       "      <td>0</td>\n",
       "    </tr>\n",
       "    <tr>\n",
       "      <th>3213</th>\n",
       "      <td>prospective houston visit professor ronn thank...</td>\n",
       "      <td>0</td>\n",
       "    </tr>\n",
       "  </tbody>\n",
       "</table>\n",
       "<p>1139 rows × 2 columns</p>\n",
       "</div>"
      ],
      "text/plain": [
       "                                                  Email  Spam\n",
       "2112  storage book ravi samer met morning sara ledbe...     0\n",
       "3717  meeting wharton office next week please send d...     0\n",
       "4795  enron recruiting mscf speaker series vince pie...     0\n",
       "2421  research sign steve sign research group someth...     0\n",
       "2097  f u iris mack mba phd enron vince iris receive...     0\n",
       "...                                                 ...   ...\n",
       "3402  visit enron frank great idea think opportunity...     0\n",
       "1472  meeting bob butts scheduled pm thursday th off...     0\n",
       "1746  visit vince kaminski enron corp research dear ...     0\n",
       "4206  resume mark giancola attached resume mark gian...     0\n",
       "3213  prospective houston visit professor ronn thank...     0\n",
       "\n",
       "[1139 rows x 2 columns]"
      ]
     },
     "execution_count": 31,
     "metadata": {},
     "output_type": "execute_result"
    }
   ],
   "source": [
    "X_test_df = pd.DataFrame()\n",
    "\n",
    "X_test_df['Email'] = X_test\n",
    "X_test_df['Spam'] = y_test\n",
    "X_test_df"
   ]
  },
  {
   "cell_type": "code",
   "execution_count": 32,
   "id": "ae1a6581",
   "metadata": {},
   "outputs": [
    {
     "data": {
      "text/html": [
       "<div>\n",
       "<style scoped>\n",
       "    .dataframe tbody tr th:only-of-type {\n",
       "        vertical-align: middle;\n",
       "    }\n",
       "\n",
       "    .dataframe tbody tr th {\n",
       "        vertical-align: top;\n",
       "    }\n",
       "\n",
       "    .dataframe thead th {\n",
       "        text-align: right;\n",
       "    }\n",
       "</style>\n",
       "<table border=\"1\" class=\"dataframe\">\n",
       "  <thead>\n",
       "    <tr style=\"text-align: right;\">\n",
       "      <th></th>\n",
       "      <th>Email</th>\n",
       "      <th>Spam</th>\n",
       "    </tr>\n",
       "  </thead>\n",
       "  <tbody>\n",
       "    <tr>\n",
       "      <th>134</th>\n",
       "      <td>get latest version cds download wide range sof...</td>\n",
       "      <td>1</td>\n",
       "    </tr>\n",
       "    <tr>\n",
       "      <th>3837</th>\n",
       "      <td>yana kristal rotation hi vince already spoke m...</td>\n",
       "      <td>0</td>\n",
       "    </tr>\n",
       "    <tr>\n",
       "      <th>61</th>\n",
       "      <td>select small cap astute investors momentum ale...</td>\n",
       "      <td>1</td>\n",
       "    </tr>\n",
       "    <tr>\n",
       "      <th>4173</th>\n",
       "      <td>power plant model jeff comments model reservat...</td>\n",
       "      <td>0</td>\n",
       "    </tr>\n",
       "    <tr>\n",
       "      <th>3753</th>\n",
       "      <td>bullet points hi vince thanks bullets regardin...</td>\n",
       "      <td>0</td>\n",
       "    </tr>\n",
       "    <tr>\n",
       "      <th>...</th>\n",
       "      <td>...</td>\n",
       "      <td>...</td>\n",
       "    </tr>\n",
       "    <tr>\n",
       "      <th>138</th>\n",
       "      <td>make dialup go faster visioson hpp za net find...</td>\n",
       "      <td>1</td>\n",
       "    </tr>\n",
       "    <tr>\n",
       "      <th>99</th>\n",
       "      <td>save money buy getting thing tried cialls yet ...</td>\n",
       "      <td>1</td>\n",
       "    </tr>\n",
       "    <tr>\n",
       "      <th>661</th>\n",
       "      <td>investor insight oil gas advisory oi gas enter...</td>\n",
       "      <td>1</td>\n",
       "    </tr>\n",
       "    <tr>\n",
       "      <th>999</th>\n",
       "      <td>percent life insurance get free quote instantl...</td>\n",
       "      <td>1</td>\n",
       "    </tr>\n",
       "    <tr>\n",
       "      <th>2928</th>\n",
       "      <td>darden case study transformation enron sherri ...</td>\n",
       "      <td>0</td>\n",
       "    </tr>\n",
       "  </tbody>\n",
       "</table>\n",
       "<p>1139 rows × 2 columns</p>\n",
       "</div>"
      ],
      "text/plain": [
       "                                                  Email  Spam\n",
       "134   get latest version cds download wide range sof...     1\n",
       "3837  yana kristal rotation hi vince already spoke m...     0\n",
       "61    select small cap astute investors momentum ale...     1\n",
       "4173  power plant model jeff comments model reservat...     0\n",
       "3753  bullet points hi vince thanks bullets regardin...     0\n",
       "...                                                 ...   ...\n",
       "138   make dialup go faster visioson hpp za net find...     1\n",
       "99    save money buy getting thing tried cialls yet ...     1\n",
       "661   investor insight oil gas advisory oi gas enter...     1\n",
       "999   percent life insurance get free quote instantl...     1\n",
       "2928  darden case study transformation enron sherri ...     0\n",
       "\n",
       "[1139 rows x 2 columns]"
      ]
     },
     "execution_count": 32,
     "metadata": {},
     "output_type": "execute_result"
    }
   ],
   "source": [
    "X_val_df = pd.DataFrame()\n",
    "\n",
    "X_val_df['Email'] = X_val\n",
    "X_val_df['Spam'] = y_val\n",
    "X_val_df"
   ]
  },
  {
   "cell_type": "code",
   "execution_count": 33,
   "id": "6ac05400",
   "metadata": {},
   "outputs": [],
   "source": [
    "X_train_df.to_csv('train.csv',index = False)\n",
    "X_test_df.to_csv('test.csv',index = False)\n",
    "X_val_df.to_csv('validation.csv',index = False)"
   ]
  },
  {
   "cell_type": "code",
   "execution_count": 34,
   "id": "2ed7406d",
   "metadata": {},
   "outputs": [],
   "source": [
    "!dvc add train.csv validation.csv test.csv"
   ]
  },
  {
   "cell_type": "code",
   "execution_count": 35,
   "id": "0dd45389",
   "metadata": {},
   "outputs": [],
   "source": [
    "!git add train.csv.dvc validation.csv.dvc test.csv.dvc"
   ]
  },
  {
   "cell_type": "code",
   "execution_count": 36,
   "id": "746b6435",
   "metadata": {},
   "outputs": [
    {
     "name": "stdout",
     "output_type": "stream",
     "text": [
      "[dvc 6292915] Updated version of data\n",
      " 3 files changed, 6 insertions(+), 6 deletions(-)\n"
     ]
    }
   ],
   "source": [
    "!git commit -m \"Updated version of data\""
   ]
  },
  {
   "cell_type": "code",
   "execution_count": 37,
   "id": "cee5320a",
   "metadata": {},
   "outputs": [
    {
     "name": "stdout",
     "output_type": "stream",
     "text": [
      "commit 62929150a13323fa2e0738e53041e75de6b0a564\n",
      "Author: Akshay Thorave <thorave@cmi.ac.in>\n",
      "Date:   Tue Feb 20 23:03:15 2024 +0530\n",
      "\n",
      "    Updated version of data\n",
      "\n",
      "commit 461455a817a6b3fb4520dd36b2c5162dc15280a4\n",
      "Author: Akshay Thorave <thorave@cmi.ac.in>\n",
      "Date:   Tue Feb 20 22:39:28 2024 +0530\n",
      "\n",
      "    First version of data\n",
      "\n",
      "commit 8906d3ffe6b1a27ae6ec05a08b55127a1c47a635\n",
      "Author: Akshay Thorave <thorave@cmi.ac.in>\n",
      "Date:   Tue Feb 20 22:12:56 2024 +0530\n",
      "\n",
      "    All files are removed except email\n",
      "\n",
      "commit 0494e06f85a2e8115217afaf78a3ba30cf0d17d1\n",
      "Author: Akshay Thorave <thorave@cmi.ac.in>\n",
      "Date:   Tue Feb 20 21:29:02 2024 +0530\n",
      "\n",
      "    updated\n",
      "\n",
      "commit 42dd711aee358a7dfb2db8e9c087e19c7cbc6955\n",
      "Author: Akshay Thorave <thorave@cmi.ac.in>\n",
      "Date:   Tue Feb 20 20:07:57 2024 +0530\n",
      "\n",
      "    Jupyter notebook added\n",
      "\n",
      "commit ac0af98a77942db778ad656ecaec9cb117e47cbe\n",
      "Author: Akshay Thorave <thorave@cmi.ac.in>\n",
      "Date:   Tue Feb 20 14:43:14 2024 +0530\n",
      "\n",
      "    Dataset uploaded\n"
     ]
    }
   ],
   "source": [
    "!git log"
   ]
  },
  {
   "cell_type": "code",
   "execution_count": 38,
   "id": "94bb5cbf",
   "metadata": {},
   "outputs": [
    {
     "name": "stdout",
     "output_type": "stream",
     "text": [
      "M\t.dvc/config\n"
     ]
    },
    {
     "name": "stderr",
     "output_type": "stream",
     "text": [
      "Note: switching to '461455a817a6b3fb4520dd36b2c5162dc15280a4'.\n",
      "\n",
      "You are in 'detached HEAD' state. You can look around, make experimental\n",
      "changes and commit them, and you can discard any commits you make in this\n",
      "state without impacting any branches by switching back to a branch.\n",
      "\n",
      "If you want to create a new branch to retain commits you create, you may\n",
      "do so (now or later) by using -c with the switch command. Example:\n",
      "\n",
      "  git switch -c <new-branch-name>\n",
      "\n",
      "Or undo this operation with:\n",
      "\n",
      "  git switch -\n",
      "\n",
      "Turn off this advice by setting config variable advice.detachedHead to false\n",
      "\n",
      "HEAD is now at 461455a First version of data\n"
     ]
    }
   ],
   "source": [
    "!git checkout 461455a817a6b3fb4520dd36b2c5162dc15280a4"
   ]
  },
  {
   "cell_type": "code",
   "execution_count": 39,
   "id": "fc64cfb1",
   "metadata": {},
   "outputs": [
    {
     "name": "stdout",
     "output_type": "stream",
     "text": [
      "M       validation.csv\n",
      "M       train.csv\n",
      "M       test.csv\n"
     ]
    }
   ],
   "source": [
    "!dvc checkout"
   ]
  },
  {
   "cell_type": "code",
   "execution_count": 40,
   "id": "d35fefcb",
   "metadata": {},
   "outputs": [
    {
     "name": "stdout",
     "output_type": "stream",
     "text": [
      "Distribution of response variable in train.csv (First version of data):\n",
      "0    2605\n",
      "1     812\n",
      "Name: Spam, dtype: int64\n",
      "Distribution of response variable in validation.csv (First version of data):\n",
      "0    860\n",
      "1    279\n",
      "Name: Spam, dtype: int64\n",
      "Distribution of response variable in test.csv (First version of data):\n",
      "0    862\n",
      "1    277\n",
      "Name: Spam, dtype: int64\n"
     ]
    }
   ],
   "source": [
    "print(\"Distribution of response variable in train.csv (First version of data):\")\n",
    "train_data = pd.read_csv('train.csv')\n",
    "print(train_data['Spam'].value_counts())\n",
    "\n",
    "\n",
    "print(\"Distribution of response variable in validation.csv (First version of data):\")\n",
    "validation_data = pd.read_csv('validation.csv')\n",
    "print(validation_data['Spam'].value_counts())\n",
    "\n",
    "\n",
    "print(\"Distribution of response variable in test.csv (First version of data):\")\n",
    "test_data = pd.read_csv('test.csv')\n",
    "print(test_data['Spam'].value_counts())"
   ]
  },
  {
   "cell_type": "code",
   "execution_count": 41,
   "id": "2a44cc1d",
   "metadata": {},
   "outputs": [
    {
     "name": "stdout",
     "output_type": "stream",
     "text": [
      "M\t.dvc/config\n"
     ]
    },
    {
     "name": "stderr",
     "output_type": "stream",
     "text": [
      "Previous HEAD position was 461455a First version of data\n",
      "HEAD is now at 6292915 Updated version of data\n"
     ]
    }
   ],
   "source": [
    "!git checkout 62929150a13323fa2e0738e53041e75de6b0a564"
   ]
  },
  {
   "cell_type": "code",
   "execution_count": 42,
   "id": "a11e789a",
   "metadata": {},
   "outputs": [
    {
     "name": "stdout",
     "output_type": "stream",
     "text": [
      "M       validation.csv\n",
      "M       train.csv\n",
      "M       test.csv\n"
     ]
    }
   ],
   "source": [
    "!dvc checkout"
   ]
  },
  {
   "cell_type": "code",
   "execution_count": 43,
   "id": "835afa9a",
   "metadata": {},
   "outputs": [
    {
     "name": "stdout",
     "output_type": "stream",
     "text": [
      "Distribution of response variable in train.csv (First version of data):\n",
      "0    2595\n",
      "1     822\n",
      "Name: Spam, dtype: int64\n",
      "Distribution of response variable in validation.csv (First version of data):\n",
      "0    864\n",
      "1    275\n",
      "Name: Spam, dtype: int64\n",
      "Distribution of response variable in test.csv (First version of data):\n",
      "0    868\n",
      "1    271\n",
      "Name: Spam, dtype: int64\n"
     ]
    }
   ],
   "source": [
    "print(\"Distribution of response variable in train.csv (First version of data):\")\n",
    "train_data = pd.read_csv('train.csv')\n",
    "print(train_data['Spam'].value_counts())\n",
    "\n",
    "\n",
    "print(\"Distribution of response variable in validation.csv (First version of data):\")\n",
    "validation_data = pd.read_csv('validation.csv')\n",
    "print(validation_data['Spam'].value_counts())\n",
    "\n",
    "\n",
    "print(\"Distribution of response variable in test.csv (First version of data):\")\n",
    "test_data = pd.read_csv('test.csv')\n",
    "print(test_data['Spam'].value_counts())"
   ]
  },
  {
   "cell_type": "code",
   "execution_count": null,
   "id": "09c6ac6a",
   "metadata": {},
   "outputs": [],
   "source": []
  }
 ],
 "metadata": {
  "kernelspec": {
   "display_name": "Python 3 (ipykernel)",
   "language": "python",
   "name": "python3"
  },
  "language_info": {
   "codemirror_mode": {
    "name": "ipython",
    "version": 3
   },
   "file_extension": ".py",
   "mimetype": "text/x-python",
   "name": "python",
   "nbconvert_exporter": "python",
   "pygments_lexer": "ipython3",
   "version": "3.9.12"
  }
 },
 "nbformat": 4,
 "nbformat_minor": 5
}
